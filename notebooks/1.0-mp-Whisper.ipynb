{
 "cells": [
  {
   "cell_type": "markdown",
   "metadata": {},
   "source": [
    "<center><h1>Testing the OpenAI Whisper model</h1></center>\n",
    "\n",
    "This notebook uses the OpenAI implementatin from https://github.com/openai/whisper. There is also a huggingface model, see https://huggingface.co/openai/whisper-large"
   ]
  },
  {
   "cell_type": "code",
   "execution_count": 16,
   "metadata": {},
   "outputs": [],
   "source": [
    "import whisper\n",
    "import torch"
   ]
  },
  {
   "cell_type": "code",
   "execution_count": 17,
   "metadata": {},
   "outputs": [],
   "source": [
    "MODEL_TYPE = 'base'"
   ]
  },
  {
   "cell_type": "code",
   "execution_count": 18,
   "metadata": {},
   "outputs": [],
   "source": [
    "model = whisper.load_model(MODEL_TYPE)"
   ]
  },
  {
   "cell_type": "markdown",
   "metadata": {},
   "source": [
    "### Record audio from mic"
   ]
  },
  {
   "cell_type": "code",
   "execution_count": 19,
   "metadata": {},
   "outputs": [],
   "source": [
    "import sounddevice as sd\n",
    "import soundfile as sf\n",
    "import numpy as np\n",
    "import scipy.io.wavfile as wav"
   ]
  },
  {
   "cell_type": "code",
   "execution_count": 20,
   "metadata": {},
   "outputs": [
    {
     "name": "stdout",
     "output_type": "stream",
     "text": [
      "Recording Audio\n",
      "Audio recording complete , Play Audio\n",
      "Play Audio Complete, save to file\n"
     ]
    }
   ],
   "source": [
    "fs=22050  # Sample rate\n",
    "duration = 5  # seconds\n",
    "myrecording = sd.rec(duration * fs, samplerate=fs, channels=1, dtype='int16')\n",
    "print(\"Recording Audio\")\n",
    "sd.wait()\n",
    "print(\"Audio recording complete , Play Audio\")\n",
    "sd.play(myrecording, fs)\n",
    "sd.wait()\n",
    "print(\"Play Audio Complete, save to file\")\n",
    "sf.write(\"out.wav\", myrecording, fs)"
   ]
  },
  {
   "cell_type": "code",
   "execution_count": 21,
   "metadata": {},
   "outputs": [],
   "source": [
    "LANGUAGE=\"German\""
   ]
  },
  {
   "cell_type": "code",
   "execution_count": 22,
   "metadata": {},
   "outputs": [],
   "source": [
    "indata_transformed = myrecording.flatten().astype(np.float32) / 32768.0"
   ]
  },
  {
   "cell_type": "code",
   "execution_count": 23,
   "metadata": {},
   "outputs": [
    {
     "name": "stdout",
     "output_type": "stream",
     "text": [
      " This is a test and I will try to find out what it is.\n"
     ]
    }
   ],
   "source": [
    "result=model.transcribe(torch.from_numpy(indata_transformed), language=LANGUAGE, fp16=False, task=\"translate\")\n",
    "\n",
    "print(result[\"text\"])"
   ]
  }
 ],
 "metadata": {
  "kernelspec": {
   "display_name": "openai",
   "language": "python",
   "name": "python3"
  },
  "language_info": {
   "codemirror_mode": {
    "name": "ipython",
    "version": 3
   },
   "file_extension": ".py",
   "mimetype": "text/x-python",
   "name": "python",
   "nbconvert_exporter": "python",
   "pygments_lexer": "ipython3",
   "version": "3.10.8"
  },
  "orig_nbformat": 4,
  "vscode": {
   "interpreter": {
    "hash": "505538a42fd46471b9db6090de5ab2796e3d9fdf6fd273705b5951e86929a9f7"
   }
  }
 },
 "nbformat": 4,
 "nbformat_minor": 2
}
