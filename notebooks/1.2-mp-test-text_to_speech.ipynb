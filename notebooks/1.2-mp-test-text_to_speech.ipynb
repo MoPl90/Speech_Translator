{
 "cells": [
  {
   "attachments": {},
   "cell_type": "markdown",
   "metadata": {},
   "source": [
    "<h1 align-center>Testing the Tacotron and HifiGAN TTS models</h1>"
   ]
  },
  {
   "cell_type": "code",
   "execution_count": 3,
   "metadata": {},
   "outputs": [],
   "source": [
    "import torchaudio\n",
    "from speechbrain.pretrained import Tacotron2\n",
    "from speechbrain.pretrained import HIFIGAN\n",
    "import sounddevice as sd\n",
    "import soundfile as sf"
   ]
  },
  {
   "cell_type": "code",
   "execution_count": 4,
   "metadata": {},
   "outputs": [],
   "source": [
    "\n",
    "\n",
    "# Intialize TTS (tacotron2) and Vocoder (HiFIGAN)\n",
    "tacotron2 = Tacotron2.from_hparams(source=\"speechbrain/tts-tacotron2-ljspeech\", savedir=\"../models/tts\")\n",
    "hifi_gan = HIFIGAN.from_hparams(source=\"speechbrain/tts-hifigan-ljspeech\", savedir=\"../models/vocoder\")\n",
    "\n",
    "# Running the TTS\n",
    "mel_output, mel_length, alignment = tacotron2.encode_text(\"Gonna have to practice that evil laugh... Muhahaha\")\n",
    "\n",
    "# Running Vocoder (spectrogram-to-waveform)\n",
    "waveforms = hifi_gan.decode_batch(mel_output)\n",
    "\n",
    "# Save the waverform\n",
    "torchaudio.save('example_TTS.wav', waveforms.squeeze(0), 22050)\n",
    "\n",
    "# Play the waveform\n",
    "sd.play(waveforms.squeeze(0).permute((1,0)).numpy(), 22050)"
   ]
  }
 ],
 "metadata": {
  "kernelspec": {
   "display_name": "openai",
   "language": "python",
   "name": "python3"
  },
  "language_info": {
   "codemirror_mode": {
    "name": "ipython",
    "version": 3
   },
   "file_extension": ".py",
   "mimetype": "text/x-python",
   "name": "python",
   "nbconvert_exporter": "python",
   "pygments_lexer": "ipython3",
   "version": "3.10.8"
  },
  "orig_nbformat": 4,
  "vscode": {
   "interpreter": {
    "hash": "505538a42fd46471b9db6090de5ab2796e3d9fdf6fd273705b5951e86929a9f7"
   }
  }
 },
 "nbformat": 4,
 "nbformat_minor": 2
}
