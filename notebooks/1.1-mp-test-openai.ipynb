{
 "cells": [
  {
   "attachments": {},
   "cell_type": "markdown",
   "metadata": {},
   "source": [
    "<h1 align=center>Testing the OpenAI GPT3 family model</h1>\n",
    "\n",
    "Here, we use the OpenAI API to test the GPT3 family model. We use the `openai` library to interact with the API. Make sure that you have set the OPENAI_API_KEY environment variable."
   ]
  },
  {
   "cell_type": "code",
   "execution_count": 1,
   "metadata": {},
   "outputs": [],
   "source": [
    "import os\n",
    "import openai"
   ]
  },
  {
   "cell_type": "code",
   "execution_count": 2,
   "metadata": {},
   "outputs": [],
   "source": [
    "openai.api_key = os.environ[\"OPENAI_API_KEY\"]"
   ]
  },
  {
   "cell_type": "code",
   "execution_count": 3,
   "metadata": {},
   "outputs": [],
   "source": [
    "model = \"text-curie-001\" #Cheapo model, otherwise use text-davinci-002"
   ]
  },
  {
   "cell_type": "code",
   "execution_count": 4,
   "metadata": {},
   "outputs": [
    {
     "data": {
      "text/plain": [
       "\"Translate from German to English: 'Was ist ein grosses Sprachmodell und wie wird es benutzt?'\""
      ]
     },
     "execution_count": 4,
     "metadata": {},
     "output_type": "execute_result"
    }
   ],
   "source": [
    "text = \"Was ist ein grosses Sprachmodell und wie wird es benutzt?\"\n",
    "\n",
    "source_language = \"German\"\n",
    "target_language = \"English\"\n",
    "\n",
    "prompt = (\n",
    "            f\"Translate from {source_language} to {target_language}: '{text}'\"\n",
    "        )\n",
    "\n",
    "prompt"
   ]
  },
  {
   "cell_type": "code",
   "execution_count": 5,
   "metadata": {},
   "outputs": [
    {
     "name": "stdout",
     "output_type": "stream",
     "text": [
      "\n",
      "\n",
      "What is a great language model and how is it used?\n"
     ]
    }
   ],
   "source": [
    "response = openai.Completion.create(\n",
    "            engine=model,\n",
    "            prompt=prompt,\n",
    "            max_tokens=1024,\n",
    "            n=1,\n",
    "            stop=None,\n",
    "            temperature=1.0,\n",
    "        )\n",
    "\n",
    "\n",
    "\n",
    "print(response[\"choices\"][0][\"text\"])"
   ]
  }
 ],
 "metadata": {
  "kernelspec": {
   "display_name": "openai",
   "language": "python",
   "name": "python3"
  },
  "language_info": {
   "codemirror_mode": {
    "name": "ipython",
    "version": 3
   },
   "file_extension": ".py",
   "mimetype": "text/x-python",
   "name": "python",
   "nbconvert_exporter": "python",
   "pygments_lexer": "ipython3",
   "version": "3.10.8"
  },
  "orig_nbformat": 4,
  "vscode": {
   "interpreter": {
    "hash": "505538a42fd46471b9db6090de5ab2796e3d9fdf6fd273705b5951e86929a9f7"
   }
  }
 },
 "nbformat": 4,
 "nbformat_minor": 2
}
